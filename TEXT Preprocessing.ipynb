{
 "cells": [
  {
   "cell_type": "code",
   "execution_count": 1,
   "id": "dc5e69f3",
   "metadata": {},
   "outputs": [],
   "source": [
    "import numpy as np\n",
    "import pandas as pd"
   ]
  },
  {
   "cell_type": "markdown",
   "id": "97a2dc09",
   "metadata": {},
   "source": [
    "# IMDB data acquisition"
   ]
  },
  {
   "cell_type": "code",
   "execution_count": 2,
   "id": "b290e599",
   "metadata": {},
   "outputs": [
    {
     "data": {
      "text/html": [
       "<div>\n",
       "<style scoped>\n",
       "    .dataframe tbody tr th:only-of-type {\n",
       "        vertical-align: middle;\n",
       "    }\n",
       "\n",
       "    .dataframe tbody tr th {\n",
       "        vertical-align: top;\n",
       "    }\n",
       "\n",
       "    .dataframe thead th {\n",
       "        text-align: right;\n",
       "    }\n",
       "</style>\n",
       "<table border=\"1\" class=\"dataframe\">\n",
       "  <thead>\n",
       "    <tr style=\"text-align: right;\">\n",
       "      <th></th>\n",
       "      <th>review</th>\n",
       "      <th>sentiment</th>\n",
       "    </tr>\n",
       "  </thead>\n",
       "  <tbody>\n",
       "    <tr>\n",
       "      <th>0</th>\n",
       "      <td>One of the other reviewers has mentioned that ...</td>\n",
       "      <td>positive</td>\n",
       "    </tr>\n",
       "    <tr>\n",
       "      <th>1</th>\n",
       "      <td>A wonderful little production. &lt;br /&gt;&lt;br /&gt;The...</td>\n",
       "      <td>positive</td>\n",
       "    </tr>\n",
       "    <tr>\n",
       "      <th>2</th>\n",
       "      <td>I thought this was a wonderful way to spend ti...</td>\n",
       "      <td>positive</td>\n",
       "    </tr>\n",
       "    <tr>\n",
       "      <th>3</th>\n",
       "      <td>Basically there's a family where a little boy ...</td>\n",
       "      <td>negative</td>\n",
       "    </tr>\n",
       "    <tr>\n",
       "      <th>4</th>\n",
       "      <td>Petter Mattei's \"Love in the Time of Money\" is...</td>\n",
       "      <td>positive</td>\n",
       "    </tr>\n",
       "    <tr>\n",
       "      <th>...</th>\n",
       "      <td>...</td>\n",
       "      <td>...</td>\n",
       "    </tr>\n",
       "    <tr>\n",
       "      <th>49995</th>\n",
       "      <td>I thought this movie did a down right good job...</td>\n",
       "      <td>positive</td>\n",
       "    </tr>\n",
       "    <tr>\n",
       "      <th>49996</th>\n",
       "      <td>Bad plot, bad dialogue, bad acting, idiotic di...</td>\n",
       "      <td>negative</td>\n",
       "    </tr>\n",
       "    <tr>\n",
       "      <th>49997</th>\n",
       "      <td>I am a Catholic taught in parochial elementary...</td>\n",
       "      <td>negative</td>\n",
       "    </tr>\n",
       "    <tr>\n",
       "      <th>49998</th>\n",
       "      <td>I'm going to have to disagree with the previou...</td>\n",
       "      <td>negative</td>\n",
       "    </tr>\n",
       "    <tr>\n",
       "      <th>49999</th>\n",
       "      <td>No one expects the Star Trek movies to be high...</td>\n",
       "      <td>negative</td>\n",
       "    </tr>\n",
       "  </tbody>\n",
       "</table>\n",
       "<p>50000 rows × 2 columns</p>\n",
       "</div>"
      ],
      "text/plain": [
       "                                                  review sentiment\n",
       "0      One of the other reviewers has mentioned that ...  positive\n",
       "1      A wonderful little production. <br /><br />The...  positive\n",
       "2      I thought this was a wonderful way to spend ti...  positive\n",
       "3      Basically there's a family where a little boy ...  negative\n",
       "4      Petter Mattei's \"Love in the Time of Money\" is...  positive\n",
       "...                                                  ...       ...\n",
       "49995  I thought this movie did a down right good job...  positive\n",
       "49996  Bad plot, bad dialogue, bad acting, idiotic di...  negative\n",
       "49997  I am a Catholic taught in parochial elementary...  negative\n",
       "49998  I'm going to have to disagree with the previou...  negative\n",
       "49999  No one expects the Star Trek movies to be high...  negative\n",
       "\n",
       "[50000 rows x 2 columns]"
      ]
     },
     "execution_count": 2,
     "metadata": {},
     "output_type": "execute_result"
    }
   ],
   "source": [
    "df = pd.read_csv('IMDB Dataset.csv')\n",
    "df"
   ]
  },
  {
   "cell_type": "markdown",
   "id": "9b5a364d",
   "metadata": {},
   "source": [
    "## 1. Lowercasing"
   ]
  },
  {
   "cell_type": "code",
   "execution_count": 3,
   "id": "43724a46",
   "metadata": {},
   "outputs": [
    {
     "data": {
      "text/html": [
       "<div>\n",
       "<style scoped>\n",
       "    .dataframe tbody tr th:only-of-type {\n",
       "        vertical-align: middle;\n",
       "    }\n",
       "\n",
       "    .dataframe tbody tr th {\n",
       "        vertical-align: top;\n",
       "    }\n",
       "\n",
       "    .dataframe thead th {\n",
       "        text-align: right;\n",
       "    }\n",
       "</style>\n",
       "<table border=\"1\" class=\"dataframe\">\n",
       "  <thead>\n",
       "    <tr style=\"text-align: right;\">\n",
       "      <th></th>\n",
       "      <th>review</th>\n",
       "      <th>sentiment</th>\n",
       "    </tr>\n",
       "  </thead>\n",
       "  <tbody>\n",
       "    <tr>\n",
       "      <th>0</th>\n",
       "      <td>one of the other reviewers has mentioned that ...</td>\n",
       "      <td>positive</td>\n",
       "    </tr>\n",
       "    <tr>\n",
       "      <th>1</th>\n",
       "      <td>a wonderful little production. &lt;br /&gt;&lt;br /&gt;the...</td>\n",
       "      <td>positive</td>\n",
       "    </tr>\n",
       "    <tr>\n",
       "      <th>2</th>\n",
       "      <td>i thought this was a wonderful way to spend ti...</td>\n",
       "      <td>positive</td>\n",
       "    </tr>\n",
       "    <tr>\n",
       "      <th>3</th>\n",
       "      <td>basically there's a family where a little boy ...</td>\n",
       "      <td>negative</td>\n",
       "    </tr>\n",
       "    <tr>\n",
       "      <th>4</th>\n",
       "      <td>petter mattei's \"love in the time of money\" is...</td>\n",
       "      <td>positive</td>\n",
       "    </tr>\n",
       "    <tr>\n",
       "      <th>...</th>\n",
       "      <td>...</td>\n",
       "      <td>...</td>\n",
       "    </tr>\n",
       "    <tr>\n",
       "      <th>49995</th>\n",
       "      <td>i thought this movie did a down right good job...</td>\n",
       "      <td>positive</td>\n",
       "    </tr>\n",
       "    <tr>\n",
       "      <th>49996</th>\n",
       "      <td>bad plot, bad dialogue, bad acting, idiotic di...</td>\n",
       "      <td>negative</td>\n",
       "    </tr>\n",
       "    <tr>\n",
       "      <th>49997</th>\n",
       "      <td>i am a catholic taught in parochial elementary...</td>\n",
       "      <td>negative</td>\n",
       "    </tr>\n",
       "    <tr>\n",
       "      <th>49998</th>\n",
       "      <td>i'm going to have to disagree with the previou...</td>\n",
       "      <td>negative</td>\n",
       "    </tr>\n",
       "    <tr>\n",
       "      <th>49999</th>\n",
       "      <td>no one expects the star trek movies to be high...</td>\n",
       "      <td>negative</td>\n",
       "    </tr>\n",
       "  </tbody>\n",
       "</table>\n",
       "<p>50000 rows × 2 columns</p>\n",
       "</div>"
      ],
      "text/plain": [
       "                                                  review sentiment\n",
       "0      one of the other reviewers has mentioned that ...  positive\n",
       "1      a wonderful little production. <br /><br />the...  positive\n",
       "2      i thought this was a wonderful way to spend ti...  positive\n",
       "3      basically there's a family where a little boy ...  negative\n",
       "4      petter mattei's \"love in the time of money\" is...  positive\n",
       "...                                                  ...       ...\n",
       "49995  i thought this movie did a down right good job...  positive\n",
       "49996  bad plot, bad dialogue, bad acting, idiotic di...  negative\n",
       "49997  i am a catholic taught in parochial elementary...  negative\n",
       "49998  i'm going to have to disagree with the previou...  negative\n",
       "49999  no one expects the star trek movies to be high...  negative\n",
       "\n",
       "[50000 rows x 2 columns]"
      ]
     },
     "execution_count": 3,
     "metadata": {},
     "output_type": "execute_result"
    }
   ],
   "source": [
    "df['review'] = df['review'].str.lower()\n",
    "df"
   ]
  },
  {
   "cell_type": "markdown",
   "id": "7722f7a0",
   "metadata": {},
   "source": [
    "## 2. Remove HTML Tags"
   ]
  },
  {
   "cell_type": "code",
   "execution_count": 4,
   "id": "e31efb95",
   "metadata": {},
   "outputs": [
    {
     "data": {
      "text/plain": [
       "'dddas'"
      ]
     },
     "execution_count": 4,
     "metadata": {},
     "output_type": "execute_result"
    }
   ],
   "source": [
    "import re\n",
    "def remove_html_tags(text):\n",
    "    pattern = re.compile('<.*?>')\n",
    "    return pattern.sub(r'', text)\n",
    "remove_html_tags('<html>dddas</html>')"
   ]
  },
  {
   "cell_type": "code",
   "execution_count": 5,
   "id": "93e280ca",
   "metadata": {},
   "outputs": [
    {
     "data": {
      "text/html": [
       "<div>\n",
       "<style scoped>\n",
       "    .dataframe tbody tr th:only-of-type {\n",
       "        vertical-align: middle;\n",
       "    }\n",
       "\n",
       "    .dataframe tbody tr th {\n",
       "        vertical-align: top;\n",
       "    }\n",
       "\n",
       "    .dataframe thead th {\n",
       "        text-align: right;\n",
       "    }\n",
       "</style>\n",
       "<table border=\"1\" class=\"dataframe\">\n",
       "  <thead>\n",
       "    <tr style=\"text-align: right;\">\n",
       "      <th></th>\n",
       "      <th>review</th>\n",
       "      <th>sentiment</th>\n",
       "    </tr>\n",
       "  </thead>\n",
       "  <tbody>\n",
       "    <tr>\n",
       "      <th>0</th>\n",
       "      <td>one of the other reviewers has mentioned that ...</td>\n",
       "      <td>positive</td>\n",
       "    </tr>\n",
       "    <tr>\n",
       "      <th>1</th>\n",
       "      <td>a wonderful little production. the filming tec...</td>\n",
       "      <td>positive</td>\n",
       "    </tr>\n",
       "    <tr>\n",
       "      <th>2</th>\n",
       "      <td>i thought this was a wonderful way to spend ti...</td>\n",
       "      <td>positive</td>\n",
       "    </tr>\n",
       "    <tr>\n",
       "      <th>3</th>\n",
       "      <td>basically there's a family where a little boy ...</td>\n",
       "      <td>negative</td>\n",
       "    </tr>\n",
       "    <tr>\n",
       "      <th>4</th>\n",
       "      <td>petter mattei's \"love in the time of money\" is...</td>\n",
       "      <td>positive</td>\n",
       "    </tr>\n",
       "    <tr>\n",
       "      <th>...</th>\n",
       "      <td>...</td>\n",
       "      <td>...</td>\n",
       "    </tr>\n",
       "    <tr>\n",
       "      <th>49995</th>\n",
       "      <td>i thought this movie did a down right good job...</td>\n",
       "      <td>positive</td>\n",
       "    </tr>\n",
       "    <tr>\n",
       "      <th>49996</th>\n",
       "      <td>bad plot, bad dialogue, bad acting, idiotic di...</td>\n",
       "      <td>negative</td>\n",
       "    </tr>\n",
       "    <tr>\n",
       "      <th>49997</th>\n",
       "      <td>i am a catholic taught in parochial elementary...</td>\n",
       "      <td>negative</td>\n",
       "    </tr>\n",
       "    <tr>\n",
       "      <th>49998</th>\n",
       "      <td>i'm going to have to disagree with the previou...</td>\n",
       "      <td>negative</td>\n",
       "    </tr>\n",
       "    <tr>\n",
       "      <th>49999</th>\n",
       "      <td>no one expects the star trek movies to be high...</td>\n",
       "      <td>negative</td>\n",
       "    </tr>\n",
       "  </tbody>\n",
       "</table>\n",
       "<p>50000 rows × 2 columns</p>\n",
       "</div>"
      ],
      "text/plain": [
       "                                                  review sentiment\n",
       "0      one of the other reviewers has mentioned that ...  positive\n",
       "1      a wonderful little production. the filming tec...  positive\n",
       "2      i thought this was a wonderful way to spend ti...  positive\n",
       "3      basically there's a family where a little boy ...  negative\n",
       "4      petter mattei's \"love in the time of money\" is...  positive\n",
       "...                                                  ...       ...\n",
       "49995  i thought this movie did a down right good job...  positive\n",
       "49996  bad plot, bad dialogue, bad acting, idiotic di...  negative\n",
       "49997  i am a catholic taught in parochial elementary...  negative\n",
       "49998  i'm going to have to disagree with the previou...  negative\n",
       "49999  no one expects the star trek movies to be high...  negative\n",
       "\n",
       "[50000 rows x 2 columns]"
      ]
     },
     "execution_count": 5,
     "metadata": {},
     "output_type": "execute_result"
    }
   ],
   "source": [
    "df['review'] = df['review'].apply(remove_html_tags)\n",
    "df"
   ]
  },
  {
   "cell_type": "markdown",
   "id": "d65e9c0e",
   "metadata": {},
   "source": [
    "## 3. Remove Links"
   ]
  },
  {
   "cell_type": "code",
   "execution_count": 6,
   "id": "d8f54b5f",
   "metadata": {},
   "outputs": [],
   "source": [
    "def remove_url(text):\n",
    "    pattern = re.compile(r'https?://\\S+|WWW\\.\\S+')\n",
    "    return pattern.sub(r'', text)\n"
   ]
  },
  {
   "cell_type": "code",
   "execution_count": 7,
   "id": "0139b05c",
   "metadata": {},
   "outputs": [],
   "source": [
    "text1 = 'https://www.kaggle.com/code/campusx/text-preprocessing/script'"
   ]
  },
  {
   "cell_type": "code",
   "execution_count": 8,
   "id": "8b180b8a",
   "metadata": {},
   "outputs": [
    {
     "data": {
      "text/plain": [
       "''"
      ]
     },
     "execution_count": 8,
     "metadata": {},
     "output_type": "execute_result"
    }
   ],
   "source": [
    "remove_url(text1)"
   ]
  },
  {
   "cell_type": "code",
   "execution_count": 9,
   "id": "84c1d922",
   "metadata": {},
   "outputs": [],
   "source": [
    "df['review'] = df['review'].apply(remove_url)"
   ]
  },
  {
   "cell_type": "markdown",
   "id": "af96feb0",
   "metadata": {},
   "source": [
    "## 4. Remove Punctuation"
   ]
  },
  {
   "cell_type": "code",
   "execution_count": 10,
   "id": "7fde8212",
   "metadata": {},
   "outputs": [],
   "source": [
    "import string, time"
   ]
  },
  {
   "cell_type": "code",
   "execution_count": 11,
   "id": "fecc5bb2",
   "metadata": {},
   "outputs": [
    {
     "data": {
      "text/plain": [
       "'!\"#$%&\\'()*+,-./:;<=>?@[\\\\]^_`{|}~'"
      ]
     },
     "execution_count": 11,
     "metadata": {},
     "output_type": "execute_result"
    }
   ],
   "source": [
    "exclude = string.punctuation\n",
    "exclude"
   ]
  },
  {
   "cell_type": "code",
   "execution_count": 12,
   "id": "86868e8b",
   "metadata": {},
   "outputs": [],
   "source": [
    "text = 'Text. with. Puncutation?'"
   ]
  },
  {
   "cell_type": "code",
   "execution_count": 13,
   "id": "21cc98ca",
   "metadata": {},
   "outputs": [],
   "source": [
    "def remove_punc(text):\n",
    "    for char in exclude:\n",
    "        text = text.replace(char,'')\n",
    "    return text"
   ]
  },
  {
   "cell_type": "code",
   "execution_count": 14,
   "id": "0ac5ffc2",
   "metadata": {},
   "outputs": [
    {
     "name": "stdout",
     "output_type": "stream",
     "text": [
      "Text with Puncutation\n",
      "8.988380432128906\n"
     ]
    }
   ],
   "source": [
    "start = time.time()\n",
    "print(remove_punc(text))\n",
    "print((time.time()-start)*50000)"
   ]
  },
  {
   "cell_type": "code",
   "execution_count": 15,
   "id": "c7e5c7f7",
   "metadata": {},
   "outputs": [],
   "source": [
    "def remove_punc1(text):\n",
    "    return text.translate(str.maketrans('', '', exclude))"
   ]
  },
  {
   "cell_type": "code",
   "execution_count": 16,
   "id": "7e8b3497",
   "metadata": {},
   "outputs": [
    {
     "name": "stdout",
     "output_type": "stream",
     "text": [
      "Text with Puncutation\n",
      "16.09325408935547\n"
     ]
    }
   ],
   "source": [
    "start = time.time()\n",
    "print(remove_punc1(text))\n",
    "print((time.time()-start)*50000)"
   ]
  },
  {
   "cell_type": "code",
   "execution_count": 17,
   "id": "6106f953",
   "metadata": {},
   "outputs": [],
   "source": [
    "df['review'] = df['review'].apply(remove_punc1)"
   ]
  },
  {
   "cell_type": "markdown",
   "id": "1afc2fcc",
   "metadata": {},
   "source": [
    "## 5. Chat Word Treatment"
   ]
  },
  {
   "cell_type": "code",
   "execution_count": 18,
   "id": "e02a6fd6",
   "metadata": {},
   "outputs": [],
   "source": [
    "chat_words = {'AFAIK': 'As Far As I Know', 'AFK': 'Away From Keyboard', 'ASAP': 'As Soon As Possible', 'ATK': 'At The Keyboard', 'ATM': 'At The Moment', 'A3': 'Anytime, Anywhere, Anyplace', 'BAK': 'Back At Keyboard', 'BBL': 'Be Back Later', 'BBS': 'Be Back Soon', 'BFN': 'Bye For Now', 'B4N': 'Bye For Now', 'BRB': 'Be Right Back', 'BRT': 'Be Right There', 'BTW': 'By The Way', 'B4': 'Before', 'CU': 'See You', 'CUL8R': 'See You Later', 'CYA': 'See You', 'FAQ': 'Frequently Asked Questions', 'FC': 'Fingers Crossed', 'FWIW': \"For What It's Worth\", 'FYI': 'For Your Information', 'GAL': 'Get A Life', 'GG': 'Good Game', 'GN': 'Good Night', 'GMTA': 'Great Minds Think Alike', 'GR8': 'Great!', 'G9': 'Genius', 'IC': 'I See', 'ICQ': 'I Seek you (also a chat program)', 'ILU': 'ILU: I Love You', 'IMHO': 'In My Honest/Humble Opinion', 'IMO': 'In My Opinion', 'IOW': 'In Other Words', 'IRL': 'In Real Life', 'KISS': 'Keep It Simple, Stupid', 'LDR': 'Long Distance Relationship', 'LMAO': 'Laugh My A.. Off', 'LOL': 'Laughing Out Loud', 'LTNS': 'Long Time No See', 'L8R': 'Later', 'MTE': 'My Thoughts Exactly', 'M8': 'Mate', 'NRN': 'No Reply Necessary', 'OIC': 'Oh I See', 'PITA': 'Pain In The A..', 'PRT': 'Party', 'PRW': 'Parents Are Watching', 'ROFL': 'Rolling On The Floor Laughing', 'ROFLOL': 'Rolling On The Floor Laughing Out Loud', 'ROTFLMAO': 'Rolling On The Floor Laughing My A.. Off', 'SK8': 'Skate', 'STATS': 'Your sex and age', 'ASL': 'Age, Sex, Location', 'THX': 'Thank You', 'TTFN': 'Ta-Ta For Now!', 'TTYL': 'Talk To You Later', 'U': 'You', 'U2': 'You Too', 'U4E': 'Yours For Ever', 'WB': 'Welcome Back', 'WTF': 'What The F...', 'WTG': 'Way To Go!', 'WUF': 'Where Are You From?', 'W8': 'Wait...', '7K': 'Sick:-D Laugher'}\n"
   ]
  },
  {
   "cell_type": "code",
   "execution_count": 19,
   "id": "4e540916",
   "metadata": {},
   "outputs": [],
   "source": [
    "def chat_conversion(text):\n",
    "    new_text = []\n",
    "    for w in text.split():\n",
    "        if w.upper() in chat_words:\n",
    "            new_text.append(chat_words[w.upper()])\n",
    "        else:\n",
    "            new_text.append(w)\n",
    "    return ' '.join(new_text)"
   ]
  },
  {
   "cell_type": "code",
   "execution_count": 20,
   "id": "9edd97ee",
   "metadata": {},
   "outputs": [
    {
     "data": {
      "text/plain": [
       "'In My Honest/Humble Opinion he is the best'"
      ]
     },
     "execution_count": 20,
     "metadata": {},
     "output_type": "execute_result"
    }
   ],
   "source": [
    "chat_conversion('IMHO he is the best')"
   ]
  },
  {
   "cell_type": "code",
   "execution_count": 21,
   "id": "c5a7ffd3",
   "metadata": {},
   "outputs": [],
   "source": [
    "df['review'] = df['review'].apply(chat_conversion)"
   ]
  },
  {
   "cell_type": "markdown",
   "id": "a1f62fdb",
   "metadata": {},
   "source": [
    "## 6. Spelling Correction"
   ]
  },
  {
   "cell_type": "code",
   "execution_count": 22,
   "id": "a734767c",
   "metadata": {},
   "outputs": [
    {
     "name": "stdout",
     "output_type": "stream",
     "text": [
      "Requirement already satisfied: textblob in /home/manoj/anaconda3/lib/python3.9/site-packages (0.17.1)\n",
      "Requirement already satisfied: nltk>=3.1 in /home/manoj/anaconda3/lib/python3.9/site-packages (from textblob) (3.7)\n",
      "Requirement already satisfied: click in /home/manoj/anaconda3/lib/python3.9/site-packages (from nltk>=3.1->textblob) (8.0.4)\n",
      "Requirement already satisfied: regex>=2021.8.3 in /home/manoj/anaconda3/lib/python3.9/site-packages (from nltk>=3.1->textblob) (2022.3.15)\n",
      "Requirement already satisfied: tqdm in /home/manoj/anaconda3/lib/python3.9/site-packages (from nltk>=3.1->textblob) (4.64.0)\n",
      "Requirement already satisfied: joblib in /home/manoj/anaconda3/lib/python3.9/site-packages (from nltk>=3.1->textblob) (1.1.0)\n"
     ]
    }
   ],
   "source": [
    "! pip install textblob"
   ]
  },
  {
   "cell_type": "code",
   "execution_count": 24,
   "id": "5b009676",
   "metadata": {},
   "outputs": [
    {
     "ename": "ImportError",
     "evalue": "cannot import name 'Textblob' from 'textblob' (/home/manoj/anaconda3/lib/python3.9/site-packages/textblob/__init__.py)",
     "output_type": "error",
     "traceback": [
      "\u001b[0;31m---------------------------------------------------------------------------\u001b[0m",
      "\u001b[0;31mImportError\u001b[0m                               Traceback (most recent call last)",
      "Input \u001b[0;32mIn [24]\u001b[0m, in \u001b[0;36m<cell line: 1>\u001b[0;34m()\u001b[0m\n\u001b[0;32m----> 1\u001b[0m \u001b[38;5;28;01mfrom\u001b[39;00m \u001b[38;5;21;01mtextblob\u001b[39;00m \u001b[38;5;28;01mimport\u001b[39;00m Textblob\n",
      "\u001b[0;31mImportError\u001b[0m: cannot import name 'Textblob' from 'textblob' (/home/manoj/anaconda3/lib/python3.9/site-packages/textblob/__init__.py)"
     ]
    }
   ],
   "source": [
    "from textblob import Textblob"
   ]
  },
  {
   "cell_type": "markdown",
   "id": "92f3a08a",
   "metadata": {},
   "source": [
    "## 7. Removing stop words"
   ]
  },
  {
   "cell_type": "code",
   "execution_count": 28,
   "id": "055089fd",
   "metadata": {},
   "outputs": [],
   "source": [
    "from nltk.corpus import stopwords"
   ]
  },
  {
   "cell_type": "code",
   "execution_count": 29,
   "id": "68ff2a9c",
   "metadata": {},
   "outputs": [
    {
     "name": "stdout",
     "output_type": "stream",
     "text": [
      "showing info https://raw.githubusercontent.com/nltk/nltk_data/gh-pages/index.xml\n"
     ]
    },
    {
     "data": {
      "text/plain": [
       "True"
      ]
     },
     "execution_count": 29,
     "metadata": {},
     "output_type": "execute_result"
    }
   ],
   "source": [
    "import nltk\n",
    "nltk.download()"
   ]
  },
  {
   "cell_type": "code",
   "execution_count": 30,
   "id": "d0063d14",
   "metadata": {},
   "outputs": [
    {
     "data": {
      "text/plain": [
       "['i',\n",
       " 'me',\n",
       " 'my',\n",
       " 'myself',\n",
       " 'we',\n",
       " 'our',\n",
       " 'ours',\n",
       " 'ourselves',\n",
       " 'you',\n",
       " \"you're\",\n",
       " \"you've\",\n",
       " \"you'll\",\n",
       " \"you'd\",\n",
       " 'your',\n",
       " 'yours',\n",
       " 'yourself',\n",
       " 'yourselves',\n",
       " 'he',\n",
       " 'him',\n",
       " 'his',\n",
       " 'himself',\n",
       " 'she',\n",
       " \"she's\",\n",
       " 'her',\n",
       " 'hers',\n",
       " 'herself',\n",
       " 'it',\n",
       " \"it's\",\n",
       " 'its',\n",
       " 'itself',\n",
       " 'they',\n",
       " 'them',\n",
       " 'their',\n",
       " 'theirs',\n",
       " 'themselves',\n",
       " 'what',\n",
       " 'which',\n",
       " 'who',\n",
       " 'whom',\n",
       " 'this',\n",
       " 'that',\n",
       " \"that'll\",\n",
       " 'these',\n",
       " 'those',\n",
       " 'am',\n",
       " 'is',\n",
       " 'are',\n",
       " 'was',\n",
       " 'were',\n",
       " 'be',\n",
       " 'been',\n",
       " 'being',\n",
       " 'have',\n",
       " 'has',\n",
       " 'had',\n",
       " 'having',\n",
       " 'do',\n",
       " 'does',\n",
       " 'did',\n",
       " 'doing',\n",
       " 'a',\n",
       " 'an',\n",
       " 'the',\n",
       " 'and',\n",
       " 'but',\n",
       " 'if',\n",
       " 'or',\n",
       " 'because',\n",
       " 'as',\n",
       " 'until',\n",
       " 'while',\n",
       " 'of',\n",
       " 'at',\n",
       " 'by',\n",
       " 'for',\n",
       " 'with',\n",
       " 'about',\n",
       " 'against',\n",
       " 'between',\n",
       " 'into',\n",
       " 'through',\n",
       " 'during',\n",
       " 'before',\n",
       " 'after',\n",
       " 'above',\n",
       " 'below',\n",
       " 'to',\n",
       " 'from',\n",
       " 'up',\n",
       " 'down',\n",
       " 'in',\n",
       " 'out',\n",
       " 'on',\n",
       " 'off',\n",
       " 'over',\n",
       " 'under',\n",
       " 'again',\n",
       " 'further',\n",
       " 'then',\n",
       " 'once',\n",
       " 'here',\n",
       " 'there',\n",
       " 'when',\n",
       " 'where',\n",
       " 'why',\n",
       " 'how',\n",
       " 'all',\n",
       " 'any',\n",
       " 'both',\n",
       " 'each',\n",
       " 'few',\n",
       " 'more',\n",
       " 'most',\n",
       " 'other',\n",
       " 'some',\n",
       " 'such',\n",
       " 'no',\n",
       " 'nor',\n",
       " 'not',\n",
       " 'only',\n",
       " 'own',\n",
       " 'same',\n",
       " 'so',\n",
       " 'than',\n",
       " 'too',\n",
       " 'very',\n",
       " 's',\n",
       " 't',\n",
       " 'can',\n",
       " 'will',\n",
       " 'just',\n",
       " 'don',\n",
       " \"don't\",\n",
       " 'should',\n",
       " \"should've\",\n",
       " 'now',\n",
       " 'd',\n",
       " 'll',\n",
       " 'm',\n",
       " 'o',\n",
       " 're',\n",
       " 've',\n",
       " 'y',\n",
       " 'ain',\n",
       " 'aren',\n",
       " \"aren't\",\n",
       " 'couldn',\n",
       " \"couldn't\",\n",
       " 'didn',\n",
       " \"didn't\",\n",
       " 'doesn',\n",
       " \"doesn't\",\n",
       " 'hadn',\n",
       " \"hadn't\",\n",
       " 'hasn',\n",
       " \"hasn't\",\n",
       " 'haven',\n",
       " \"haven't\",\n",
       " 'isn',\n",
       " \"isn't\",\n",
       " 'ma',\n",
       " 'mightn',\n",
       " \"mightn't\",\n",
       " 'mustn',\n",
       " \"mustn't\",\n",
       " 'needn',\n",
       " \"needn't\",\n",
       " 'shan',\n",
       " \"shan't\",\n",
       " 'shouldn',\n",
       " \"shouldn't\",\n",
       " 'wasn',\n",
       " \"wasn't\",\n",
       " 'weren',\n",
       " \"weren't\",\n",
       " 'won',\n",
       " \"won't\",\n",
       " 'wouldn',\n",
       " \"wouldn't\"]"
      ]
     },
     "execution_count": 30,
     "metadata": {},
     "output_type": "execute_result"
    }
   ],
   "source": [
    "stopwords.words('english')"
   ]
  },
  {
   "cell_type": "code",
   "execution_count": 31,
   "id": "164dc584",
   "metadata": {},
   "outputs": [],
   "source": [
    "def remove_stopwords(text):\n",
    "    new_text = []\n",
    "    for word in text.split():\n",
    "        if word in stopwords.words('english'):\n",
    "            new_text.append('')\n",
    "        else:\n",
    "            new_text.append(word)\n",
    "    return ' '.join(new_text)"
   ]
  },
  {
   "cell_type": "code",
   "execution_count": 32,
   "id": "42398af7",
   "metadata": {},
   "outputs": [
    {
     "data": {
      "text/plain": [
       "'basically theres  family   little boy jake thinks theres  zombie   closet  parents  fighting   timethis movie  slower   soap opera  suddenly jake decides  become rambo  kill  zombieok first    youre going  make  film  must decide    thriller   drama   drama  movie  watchable parents  divorcing arguing like  real life     jake   closet  totally ruins   film  expected  see  boogeyman similar movie  instead  watched  drama   meaningless thriller spots3   10    well playing parents descent dialogs    shots  jake  ignore '"
      ]
     },
     "execution_count": 32,
     "metadata": {},
     "output_type": "execute_result"
    }
   ],
   "source": [
    "remove_stopwords(df['review'][3])"
   ]
  },
  {
   "cell_type": "code",
   "execution_count": 33,
   "id": "ce610693",
   "metadata": {},
   "outputs": [],
   "source": [
    "# df['review'] = df['review'].apply(remove_stopwords)"
   ]
  },
  {
   "cell_type": "markdown",
   "id": "912d834a",
   "metadata": {},
   "source": [
    "## 8. Remove Emoji"
   ]
  },
  {
   "cell_type": "code",
   "execution_count": 34,
   "id": "6d02db22",
   "metadata": {},
   "outputs": [],
   "source": [
    "import re\n",
    "def remove_emoji(text):\n",
    "    emoji_pattern = re.compile(\"[\"\n",
    "                               u\"\\U0001F600-\\U0001F64F\"  # emoticons\n",
    "                               u\"\\U0001F300-\\U0001F5FF\"  # symbols and pictographs\n",
    "                               u\"\\U0001F680-\\U0001F6FF\"  # transport & map symbols\n",
    "                               u\"\\U0001F1E0-\\U0001F1FF\"  # flags (iOS)\n",
    "                               u\"\\U00002702-\\U000027B0\"\n",
    "                               u\"\\U000024C2-\\U0001F251\"\n",
    "                               \"]+\", flags=re.UNICODE)\n",
    "    return emoji_pattern.sub(r'', text)"
   ]
  },
  {
   "cell_type": "code",
   "execution_count": 35,
   "id": "49ac79f6",
   "metadata": {},
   "outputs": [
    {
     "data": {
      "text/plain": [
       "'lmao !'"
      ]
     },
     "execution_count": 35,
     "metadata": {},
     "output_type": "execute_result"
    }
   ],
   "source": [
    "remove_emoji('lmao 😛😅😂!')"
   ]
  },
  {
   "cell_type": "code",
   "execution_count": 36,
   "id": "1e999d26",
   "metadata": {},
   "outputs": [
    {
     "name": "stdout",
     "output_type": "stream",
     "text": [
      "Requirement already satisfied: emoji in /home/manoj/anaconda3/lib/python3.9/site-packages (2.1.0)\r\n"
     ]
    }
   ],
   "source": [
    "!pip install emoji"
   ]
  },
  {
   "cell_type": "code",
   "execution_count": 37,
   "id": "c6ab1284",
   "metadata": {},
   "outputs": [],
   "source": [
    "df['review'] = df['review'].apply(remove_emoji)"
   ]
  },
  {
   "cell_type": "code",
   "execution_count": 38,
   "id": "4cabe07f",
   "metadata": {},
   "outputs": [
    {
     "name": "stdout",
     "output_type": "stream",
     "text": [
      ":face_with_tongue::grinning_face_with_sweat::face_with_tears_of_joy:\n"
     ]
    }
   ],
   "source": [
    "import emoji\n",
    "print(emoji.demojize('😛😅😂'))"
   ]
  },
  {
   "cell_type": "markdown",
   "id": "844df9c3",
   "metadata": {},
   "source": [
    "## 9. Tokenization"
   ]
  },
  {
   "cell_type": "markdown",
   "id": "fa5a98b5",
   "metadata": {},
   "source": [
    "### 1. Split()"
   ]
  },
  {
   "cell_type": "code",
   "execution_count": 39,
   "id": "ebe061e5",
   "metadata": {},
   "outputs": [
    {
     "data": {
      "text/plain": [
       "['I', 'am', 'going', 'to', 'Delhi']"
      ]
     },
     "execution_count": 39,
     "metadata": {},
     "output_type": "execute_result"
    }
   ],
   "source": [
    "# word tokenization\n",
    "sent1 = 'I am going to Delhi'\n",
    "sent1.split()"
   ]
  },
  {
   "cell_type": "code",
   "execution_count": 40,
   "id": "31c61a60",
   "metadata": {},
   "outputs": [
    {
     "data": {
      "text/plain": [
       "['I am going to Delhi',\n",
       " ' I will stay there for 3 days',\n",
       " ' lets hope trip to be great']"
      ]
     },
     "execution_count": 40,
     "metadata": {},
     "output_type": "execute_result"
    }
   ],
   "source": [
    "# sentence tokenization\n",
    "sent2 = 'I am going to Delhi. I will stay there for 3 days. lets hope trip to be great'\n",
    "sent2.split('.')"
   ]
  },
  {
   "cell_type": "code",
   "execution_count": 41,
   "id": "e908e1d6",
   "metadata": {},
   "outputs": [
    {
     "data": {
      "text/plain": [
       "['I', 'am', 'going', 'to', 'delhi!']"
      ]
     },
     "execution_count": 41,
     "metadata": {},
     "output_type": "execute_result"
    }
   ],
   "source": [
    "#problem with the split function\n",
    "sent3 = 'I am going to delhi!'\n",
    "sent3.split()"
   ]
  },
  {
   "cell_type": "code",
   "execution_count": 42,
   "id": "e7335721",
   "metadata": {},
   "outputs": [
    {
     "data": {
      "text/plain": [
       "['Where do you think I should go? I have 3 day holiday']"
      ]
     },
     "execution_count": 42,
     "metadata": {},
     "output_type": "execute_result"
    }
   ],
   "source": [
    "sent4 = 'Where do you think I should go? I have 3 day holiday'\n",
    "sent4.split('.')"
   ]
  },
  {
   "cell_type": "markdown",
   "id": "7699511d",
   "metadata": {},
   "source": [
    "## 2. Regular Expression"
   ]
  },
  {
   "cell_type": "code",
   "execution_count": 43,
   "id": "9996b6fe",
   "metadata": {},
   "outputs": [
    {
     "data": {
      "text/plain": [
       "['I', 'am', 'going', 'to', 'delhi']"
      ]
     },
     "execution_count": 43,
     "metadata": {},
     "output_type": "execute_result"
    }
   ],
   "source": [
    "import re\n",
    "tokens = re.findall('[\\w]+',sent3)\n",
    "tokens"
   ]
  },
  {
   "cell_type": "code",
   "execution_count": 44,
   "id": "40152978",
   "metadata": {},
   "outputs": [
    {
     "data": {
      "text/plain": [
       "['Lorem Ipsum is the single greatest threat',\n",
       " ' We are not - we are not keeping up with other websites',\n",
       " ' Lorem Ipsum best not make any more threats to your website',\n",
       " ' It will be met with fire and fury like the world has never seen',\n",
       " ' Does everybody know that pig named Lorem Ipsum',\n",
       " ' An ‘extremely credible source’ has called my office and told me that Barack Obama’s placeholder text is a fraud',\n",
       " '']"
      ]
     },
     "execution_count": 44,
     "metadata": {},
     "output_type": "execute_result"
    }
   ],
   "source": [
    "text = 'Lorem Ipsum is the single greatest threat. We are not - we are not keeping up with other websites. Lorem Ipsum best not make any more threats to your website. It will be met with fire and fury like the world has never seen. Does everybody know that pig named Lorem Ipsum? An ‘extremely credible source’ has called my office and told me that Barack Obama’s placeholder text is a fraud.'\n",
    "re.compile('[.!?]').split(text)"
   ]
  },
  {
   "cell_type": "markdown",
   "id": "9cb41f5f",
   "metadata": {},
   "source": [
    "### 3. NLTK"
   ]
  },
  {
   "cell_type": "code",
   "execution_count": 45,
   "id": "4af91fb7",
   "metadata": {},
   "outputs": [],
   "source": [
    "from nltk.tokenize import word_tokenize,sent_tokenize"
   ]
  },
  {
   "cell_type": "code",
   "execution_count": 46,
   "id": "50a0070a",
   "metadata": {},
   "outputs": [
    {
     "data": {
      "text/plain": [
       "['I', 'am', 'going', 'to', 'Delhi', '!']"
      ]
     },
     "execution_count": 46,
     "metadata": {},
     "output_type": "execute_result"
    }
   ],
   "source": [
    "sent1 = 'I am going to Delhi!'\n",
    "word_tokenize(sent1)"
   ]
  },
  {
   "cell_type": "code",
   "execution_count": 47,
   "id": "e5a49608",
   "metadata": {},
   "outputs": [
    {
     "data": {
      "text/plain": [
       "['Lorem Ipsum is the single greatest threat.',\n",
       " 'We are not - we are not keeping up with other websites.',\n",
       " 'Lorem Ipsum best not make any more threats to your website.',\n",
       " 'It will be met with fire and fury like the world has never seen.',\n",
       " 'Does everybody know that pig named Lorem Ipsum?',\n",
       " 'An ‘extremely credible source’ has called my office and told me that Barack Obama’s placeholder text is a fraud.']"
      ]
     },
     "execution_count": 47,
     "metadata": {},
     "output_type": "execute_result"
    }
   ],
   "source": [
    "text = 'Lorem Ipsum is the single greatest threat. We are not - we are not keeping up with other websites. Lorem Ipsum best not make any more threats to your website. It will be met with fire and fury like the world has never seen. Does everybody know that pig named Lorem Ipsum? An ‘extremely credible source’ has called my office and told me that Barack Obama’s placeholder text is a fraud.'\n",
    "sent_tokenize(text)"
   ]
  },
  {
   "cell_type": "code",
   "execution_count": 48,
   "id": "4ee88918",
   "metadata": {},
   "outputs": [],
   "source": [
    "sent5 = 'I have a Ph.D in A.I'\n",
    "sent6 = 'We are here to help! mail us at nks@gmail.com'\n",
    "sent7 = 'A 5km  ride cost $10.50'"
   ]
  },
  {
   "cell_type": "code",
   "execution_count": 49,
   "id": "6d924282",
   "metadata": {},
   "outputs": [
    {
     "data": {
      "text/plain": [
       "['I', 'have', 'a', 'Ph.D', 'in', 'A.I']"
      ]
     },
     "execution_count": 49,
     "metadata": {},
     "output_type": "execute_result"
    }
   ],
   "source": [
    "word_tokenize(sent5)"
   ]
  },
  {
   "cell_type": "code",
   "execution_count": 50,
   "id": "65a0c03c",
   "metadata": {},
   "outputs": [
    {
     "data": {
      "text/plain": [
       "['We',\n",
       " 'are',\n",
       " 'here',\n",
       " 'to',\n",
       " 'help',\n",
       " '!',\n",
       " 'mail',\n",
       " 'us',\n",
       " 'at',\n",
       " 'nks',\n",
       " '@',\n",
       " 'gmail.com']"
      ]
     },
     "execution_count": 50,
     "metadata": {},
     "output_type": "execute_result"
    }
   ],
   "source": [
    "word_tokenize(sent6)"
   ]
  },
  {
   "cell_type": "code",
   "execution_count": 51,
   "id": "fb11ef7b",
   "metadata": {},
   "outputs": [
    {
     "data": {
      "text/plain": [
       "['A', '5km', 'ride', 'cost', '$', '10.50']"
      ]
     },
     "execution_count": 51,
     "metadata": {},
     "output_type": "execute_result"
    }
   ],
   "source": [
    "word_tokenize(sent7)"
   ]
  },
  {
   "cell_type": "markdown",
   "id": "ee4c801b",
   "metadata": {},
   "source": [
    "### 4. Spacy"
   ]
  },
  {
   "cell_type": "code",
   "execution_count": 52,
   "id": "c0271e05",
   "metadata": {},
   "outputs": [
    {
     "name": "stdout",
     "output_type": "stream",
     "text": [
      "Requirement already satisfied: spacy in /home/manoj/anaconda3/lib/python3.9/site-packages (3.4.1)\n",
      "Requirement already satisfied: spacy-loggers<2.0.0,>=1.0.0 in /home/manoj/anaconda3/lib/python3.9/site-packages (from spacy) (1.0.3)\n",
      "Requirement already satisfied: cymem<2.1.0,>=2.0.2 in /home/manoj/anaconda3/lib/python3.9/site-packages (from spacy) (2.0.6)\n",
      "Requirement already satisfied: wasabi<1.1.0,>=0.9.1 in /home/manoj/anaconda3/lib/python3.9/site-packages (from spacy) (0.10.1)\n",
      "Requirement already satisfied: jinja2 in /home/manoj/anaconda3/lib/python3.9/site-packages (from spacy) (2.11.3)\n",
      "Requirement already satisfied: pydantic!=1.8,!=1.8.1,<1.10.0,>=1.7.4 in /home/manoj/anaconda3/lib/python3.9/site-packages (from spacy) (1.9.2)\n",
      "Requirement already satisfied: preshed<3.1.0,>=3.0.2 in /home/manoj/anaconda3/lib/python3.9/site-packages (from spacy) (3.0.7)\n",
      "Requirement already satisfied: tqdm<5.0.0,>=4.38.0 in /home/manoj/anaconda3/lib/python3.9/site-packages (from spacy) (4.64.0)\n",
      "Requirement already satisfied: numpy>=1.15.0 in /home/manoj/anaconda3/lib/python3.9/site-packages (from spacy) (1.21.5)\n",
      "Requirement already satisfied: pathy>=0.3.5 in /home/manoj/anaconda3/lib/python3.9/site-packages (from spacy) (0.6.2)\n",
      "Requirement already satisfied: murmurhash<1.1.0,>=0.28.0 in /home/manoj/anaconda3/lib/python3.9/site-packages (from spacy) (1.0.8)\n",
      "Requirement already satisfied: setuptools in /home/manoj/anaconda3/lib/python3.9/site-packages (from spacy) (61.2.0)\n",
      "Requirement already satisfied: spacy-legacy<3.1.0,>=3.0.9 in /home/manoj/anaconda3/lib/python3.9/site-packages (from spacy) (3.0.10)\n",
      "Requirement already satisfied: thinc<8.2.0,>=8.1.0 in /home/manoj/anaconda3/lib/python3.9/site-packages (from spacy) (8.1.2)\n",
      "Requirement already satisfied: packaging>=20.0 in /home/manoj/anaconda3/lib/python3.9/site-packages (from spacy) (21.3)\n",
      "Requirement already satisfied: srsly<3.0.0,>=2.4.3 in /home/manoj/anaconda3/lib/python3.9/site-packages (from spacy) (2.4.4)\n",
      "Requirement already satisfied: langcodes<4.0.0,>=3.2.0 in /home/manoj/anaconda3/lib/python3.9/site-packages (from spacy) (3.3.0)\n",
      "Requirement already satisfied: catalogue<2.1.0,>=2.0.6 in /home/manoj/anaconda3/lib/python3.9/site-packages (from spacy) (2.0.8)\n",
      "Requirement already satisfied: requests<3.0.0,>=2.13.0 in /home/manoj/anaconda3/lib/python3.9/site-packages (from spacy) (2.27.1)\n",
      "Requirement already satisfied: typer<0.5.0,>=0.3.0 in /home/manoj/anaconda3/lib/python3.9/site-packages (from spacy) (0.4.2)\n",
      "Requirement already satisfied: pyparsing!=3.0.5,>=2.0.2 in /home/manoj/anaconda3/lib/python3.9/site-packages (from packaging>=20.0->spacy) (3.0.4)\n",
      "Requirement already satisfied: smart-open<6.0.0,>=5.2.1 in /home/manoj/anaconda3/lib/python3.9/site-packages (from pathy>=0.3.5->spacy) (5.2.1)\n",
      "Requirement already satisfied: typing-extensions>=3.7.4.3 in /home/manoj/anaconda3/lib/python3.9/site-packages (from pydantic!=1.8,!=1.8.1,<1.10.0,>=1.7.4->spacy) (4.1.1)\n",
      "Requirement already satisfied: idna<4,>=2.5 in /home/manoj/anaconda3/lib/python3.9/site-packages (from requests<3.0.0,>=2.13.0->spacy) (3.3)\n",
      "Requirement already satisfied: urllib3<1.27,>=1.21.1 in /home/manoj/anaconda3/lib/python3.9/site-packages (from requests<3.0.0,>=2.13.0->spacy) (1.26.9)\n",
      "Requirement already satisfied: charset-normalizer~=2.0.0 in /home/manoj/anaconda3/lib/python3.9/site-packages (from requests<3.0.0,>=2.13.0->spacy) (2.0.4)\n",
      "Requirement already satisfied: certifi>=2017.4.17 in /home/manoj/anaconda3/lib/python3.9/site-packages (from requests<3.0.0,>=2.13.0->spacy) (2021.10.8)\n",
      "Requirement already satisfied: confection<1.0.0,>=0.0.1 in /home/manoj/anaconda3/lib/python3.9/site-packages (from thinc<8.2.0,>=8.1.0->spacy) (0.0.2)\n",
      "Requirement already satisfied: blis<0.8.0,>=0.7.8 in /home/manoj/anaconda3/lib/python3.9/site-packages (from thinc<8.2.0,>=8.1.0->spacy) (0.7.8)\n",
      "Requirement already satisfied: click<9.0.0,>=7.1.1 in /home/manoj/anaconda3/lib/python3.9/site-packages (from typer<0.5.0,>=0.3.0->spacy) (8.0.4)\n",
      "Requirement already satisfied: MarkupSafe>=0.23 in /home/manoj/anaconda3/lib/python3.9/site-packages (from jinja2->spacy) (2.0.1)\n"
     ]
    }
   ],
   "source": [
    "!pip install spacy"
   ]
  },
  {
   "cell_type": "code",
   "execution_count": 53,
   "id": "4f4b7b5a",
   "metadata": {},
   "outputs": [
    {
     "name": "stdout",
     "output_type": "stream",
     "text": [
      "Collecting en-core-web-sm==3.4.0\n",
      "  Downloading https://github.com/explosion/spacy-models/releases/download/en_core_web_sm-3.4.0/en_core_web_sm-3.4.0-py3-none-any.whl (12.8 MB)\n",
      "\u001b[K     |████████████████████████████████| 12.8 MB 3.2 MB/s eta 0:00:01\n",
      "\u001b[?25hRequirement already satisfied: spacy<3.5.0,>=3.4.0 in /home/manoj/anaconda3/lib/python3.9/site-packages (from en-core-web-sm==3.4.0) (3.4.1)\n",
      "Requirement already satisfied: murmurhash<1.1.0,>=0.28.0 in /home/manoj/anaconda3/lib/python3.9/site-packages (from spacy<3.5.0,>=3.4.0->en-core-web-sm==3.4.0) (1.0.8)\n",
      "Requirement already satisfied: jinja2 in /home/manoj/anaconda3/lib/python3.9/site-packages (from spacy<3.5.0,>=3.4.0->en-core-web-sm==3.4.0) (2.11.3)\n",
      "Requirement already satisfied: pydantic!=1.8,!=1.8.1,<1.10.0,>=1.7.4 in /home/manoj/anaconda3/lib/python3.9/site-packages (from spacy<3.5.0,>=3.4.0->en-core-web-sm==3.4.0) (1.9.2)\n",
      "Requirement already satisfied: cymem<2.1.0,>=2.0.2 in /home/manoj/anaconda3/lib/python3.9/site-packages (from spacy<3.5.0,>=3.4.0->en-core-web-sm==3.4.0) (2.0.6)\n",
      "Requirement already satisfied: thinc<8.2.0,>=8.1.0 in /home/manoj/anaconda3/lib/python3.9/site-packages (from spacy<3.5.0,>=3.4.0->en-core-web-sm==3.4.0) (8.1.2)\n",
      "Requirement already satisfied: wasabi<1.1.0,>=0.9.1 in /home/manoj/anaconda3/lib/python3.9/site-packages (from spacy<3.5.0,>=3.4.0->en-core-web-sm==3.4.0) (0.10.1)\n",
      "Requirement already satisfied: packaging>=20.0 in /home/manoj/anaconda3/lib/python3.9/site-packages (from spacy<3.5.0,>=3.4.0->en-core-web-sm==3.4.0) (21.3)\n",
      "Requirement already satisfied: requests<3.0.0,>=2.13.0 in /home/manoj/anaconda3/lib/python3.9/site-packages (from spacy<3.5.0,>=3.4.0->en-core-web-sm==3.4.0) (2.27.1)\n",
      "Requirement already satisfied: pathy>=0.3.5 in /home/manoj/anaconda3/lib/python3.9/site-packages (from spacy<3.5.0,>=3.4.0->en-core-web-sm==3.4.0) (0.6.2)\n",
      "Requirement already satisfied: spacy-loggers<2.0.0,>=1.0.0 in /home/manoj/anaconda3/lib/python3.9/site-packages (from spacy<3.5.0,>=3.4.0->en-core-web-sm==3.4.0) (1.0.3)\n",
      "Requirement already satisfied: numpy>=1.15.0 in /home/manoj/anaconda3/lib/python3.9/site-packages (from spacy<3.5.0,>=3.4.0->en-core-web-sm==3.4.0) (1.21.5)\n",
      "Requirement already satisfied: typer<0.5.0,>=0.3.0 in /home/manoj/anaconda3/lib/python3.9/site-packages (from spacy<3.5.0,>=3.4.0->en-core-web-sm==3.4.0) (0.4.2)\n",
      "Requirement already satisfied: preshed<3.1.0,>=3.0.2 in /home/manoj/anaconda3/lib/python3.9/site-packages (from spacy<3.5.0,>=3.4.0->en-core-web-sm==3.4.0) (3.0.7)\n",
      "Requirement already satisfied: catalogue<2.1.0,>=2.0.6 in /home/manoj/anaconda3/lib/python3.9/site-packages (from spacy<3.5.0,>=3.4.0->en-core-web-sm==3.4.0) (2.0.8)\n",
      "Requirement already satisfied: srsly<3.0.0,>=2.4.3 in /home/manoj/anaconda3/lib/python3.9/site-packages (from spacy<3.5.0,>=3.4.0->en-core-web-sm==3.4.0) (2.4.4)\n",
      "Requirement already satisfied: tqdm<5.0.0,>=4.38.0 in /home/manoj/anaconda3/lib/python3.9/site-packages (from spacy<3.5.0,>=3.4.0->en-core-web-sm==3.4.0) (4.64.0)\n",
      "Requirement already satisfied: langcodes<4.0.0,>=3.2.0 in /home/manoj/anaconda3/lib/python3.9/site-packages (from spacy<3.5.0,>=3.4.0->en-core-web-sm==3.4.0) (3.3.0)\n",
      "Requirement already satisfied: spacy-legacy<3.1.0,>=3.0.9 in /home/manoj/anaconda3/lib/python3.9/site-packages (from spacy<3.5.0,>=3.4.0->en-core-web-sm==3.4.0) (3.0.10)\n",
      "Requirement already satisfied: setuptools in /home/manoj/anaconda3/lib/python3.9/site-packages (from spacy<3.5.0,>=3.4.0->en-core-web-sm==3.4.0) (61.2.0)\n",
      "Requirement already satisfied: pyparsing!=3.0.5,>=2.0.2 in /home/manoj/anaconda3/lib/python3.9/site-packages (from packaging>=20.0->spacy<3.5.0,>=3.4.0->en-core-web-sm==3.4.0) (3.0.4)\n",
      "Requirement already satisfied: smart-open<6.0.0,>=5.2.1 in /home/manoj/anaconda3/lib/python3.9/site-packages (from pathy>=0.3.5->spacy<3.5.0,>=3.4.0->en-core-web-sm==3.4.0) (5.2.1)\n",
      "Requirement already satisfied: typing-extensions>=3.7.4.3 in /home/manoj/anaconda3/lib/python3.9/site-packages (from pydantic!=1.8,!=1.8.1,<1.10.0,>=1.7.4->spacy<3.5.0,>=3.4.0->en-core-web-sm==3.4.0) (4.1.1)\n",
      "Requirement already satisfied: certifi>=2017.4.17 in /home/manoj/anaconda3/lib/python3.9/site-packages (from requests<3.0.0,>=2.13.0->spacy<3.5.0,>=3.4.0->en-core-web-sm==3.4.0) (2021.10.8)\n",
      "Requirement already satisfied: idna<4,>=2.5 in /home/manoj/anaconda3/lib/python3.9/site-packages (from requests<3.0.0,>=2.13.0->spacy<3.5.0,>=3.4.0->en-core-web-sm==3.4.0) (3.3)\n",
      "Requirement already satisfied: charset-normalizer~=2.0.0 in /home/manoj/anaconda3/lib/python3.9/site-packages (from requests<3.0.0,>=2.13.0->spacy<3.5.0,>=3.4.0->en-core-web-sm==3.4.0) (2.0.4)\n",
      "Requirement already satisfied: urllib3<1.27,>=1.21.1 in /home/manoj/anaconda3/lib/python3.9/site-packages (from requests<3.0.0,>=2.13.0->spacy<3.5.0,>=3.4.0->en-core-web-sm==3.4.0) (1.26.9)\n",
      "Requirement already satisfied: confection<1.0.0,>=0.0.1 in /home/manoj/anaconda3/lib/python3.9/site-packages (from thinc<8.2.0,>=8.1.0->spacy<3.5.0,>=3.4.0->en-core-web-sm==3.4.0) (0.0.2)\n",
      "Requirement already satisfied: blis<0.8.0,>=0.7.8 in /home/manoj/anaconda3/lib/python3.9/site-packages (from thinc<8.2.0,>=8.1.0->spacy<3.5.0,>=3.4.0->en-core-web-sm==3.4.0) (0.7.8)\n",
      "Requirement already satisfied: click<9.0.0,>=7.1.1 in /home/manoj/anaconda3/lib/python3.9/site-packages (from typer<0.5.0,>=0.3.0->spacy<3.5.0,>=3.4.0->en-core-web-sm==3.4.0) (8.0.4)\n",
      "Requirement already satisfied: MarkupSafe>=0.23 in /home/manoj/anaconda3/lib/python3.9/site-packages (from jinja2->spacy<3.5.0,>=3.4.0->en-core-web-sm==3.4.0) (2.0.1)\n",
      "\u001b[38;5;2m✔ Download and installation successful\u001b[0m\n",
      "You can now load the package via spacy.load('en_core_web_sm')\n"
     ]
    }
   ],
   "source": [
    "!python -m spacy download en_core_web_sm"
   ]
  },
  {
   "cell_type": "code",
   "execution_count": 54,
   "id": "018ba764",
   "metadata": {},
   "outputs": [],
   "source": [
    "import spacy\n",
    "nlp = spacy.load('en_core_web_sm')"
   ]
  },
  {
   "cell_type": "code",
   "execution_count": 55,
   "id": "a1a94a37",
   "metadata": {},
   "outputs": [
    {
     "name": "stdout",
     "output_type": "stream",
     "text": [
      "I\n",
      "have\n",
      "a\n",
      "Ph\n",
      ".\n",
      "D\n",
      "in\n",
      "A.I\n"
     ]
    }
   ],
   "source": [
    "doc = nlp(sent5)\n",
    "for token in doc:\n",
    "    print(token)"
   ]
  },
  {
   "cell_type": "code",
   "execution_count": 56,
   "id": "86a44e5f",
   "metadata": {},
   "outputs": [
    {
     "name": "stdout",
     "output_type": "stream",
     "text": [
      "We\n",
      "are\n",
      "here\n",
      "to\n",
      "help\n",
      "!\n",
      "mail\n",
      "us\n",
      "at\n",
      "nks@gmail.com\n"
     ]
    }
   ],
   "source": [
    "doc = nlp(sent6)\n",
    "for token in doc:\n",
    "    print(token)"
   ]
  },
  {
   "cell_type": "code",
   "execution_count": 57,
   "id": "4e07abd7",
   "metadata": {},
   "outputs": [
    {
     "name": "stdout",
     "output_type": "stream",
     "text": [
      "A\n",
      "5\n",
      "km\n",
      " \n",
      "ride\n",
      "cost\n",
      "$\n",
      "10.50\n"
     ]
    }
   ],
   "source": [
    "doc = nlp(sent7)\n",
    "for token in doc:\n",
    "    print(token)"
   ]
  },
  {
   "cell_type": "code",
   "execution_count": 58,
   "id": "ceec1517",
   "metadata": {},
   "outputs": [
    {
     "name": "stdout",
     "output_type": "stream",
     "text": [
      "I\n",
      "am\n",
      "going\n",
      "to\n",
      "Delhi\n",
      "!\n"
     ]
    }
   ],
   "source": [
    "doc = nlp(sent1)\n",
    "for token in doc:\n",
    "    print(token)"
   ]
  },
  {
   "cell_type": "code",
   "execution_count": 59,
   "id": "acce00e5",
   "metadata": {},
   "outputs": [],
   "source": [
    "doc = nlp(sent1)"
   ]
  },
  {
   "cell_type": "markdown",
   "id": "d06705b5",
   "metadata": {},
   "source": [
    "## 10. Stemming"
   ]
  },
  {
   "cell_type": "code",
   "execution_count": 60,
   "id": "7cc3316e",
   "metadata": {},
   "outputs": [],
   "source": [
    "from nltk.stem.porter import PorterStemmer"
   ]
  },
  {
   "cell_type": "code",
   "execution_count": 61,
   "id": "0d16e363",
   "metadata": {},
   "outputs": [],
   "source": [
    "ps = PorterStemmer()\n",
    "def stem_words(text):\n",
    "    return ' '.join(ps.stem(word) for word in text.split())\n"
   ]
  },
  {
   "cell_type": "code",
   "execution_count": 62,
   "id": "3e0ec64f",
   "metadata": {},
   "outputs": [
    {
     "data": {
      "text/plain": [
       "'walk walk walk walk'"
      ]
     },
     "execution_count": 62,
     "metadata": {},
     "output_type": "execute_result"
    }
   ],
   "source": [
    "text = 'walk walks walking walked'\n",
    "stem_words(text)"
   ]
  },
  {
   "cell_type": "code",
   "execution_count": 63,
   "id": "ba8f00cf",
   "metadata": {},
   "outputs": [
    {
     "data": {
      "text/plain": [
       "'i sure would like to see a resurrect of a up date seahunt seri with the tech they have today it would bring back the kid excit in mei grew up on black and white tv and seahunt with gunsmok were my hero everi weekyou have my vote for a comeback of a new sea huntw need a chang of pace in tv and thi would work for a world of under water adventureoh by the way thank you for an outlet like thi to view mani viewpoint about tv and the mani moviesso ani ole way i believ ive got what i wanna saywould be nice to read some more plu point about sea huntif my rhyme would be 10 line would you let me submitor leav me out to be in doubt and have me to quitif thi is so then i must go so let do it'"
      ]
     },
     "execution_count": 63,
     "metadata": {},
     "output_type": "execute_result"
    }
   ],
   "source": [
    "stem_words(df['review'][6])"
   ]
  },
  {
   "cell_type": "markdown",
   "id": "0e3cad30",
   "metadata": {},
   "source": [
    "Stemming - little faster,used when output not to be shown to the user<br>\n",
    "Lemmatization - slower,used when output to be shown to the user"
   ]
  },
  {
   "cell_type": "markdown",
   "id": "bc58cac4",
   "metadata": {},
   "source": [
    "## 11. Lemmatization"
   ]
  },
  {
   "cell_type": "markdown",
   "id": "1c94115e",
   "metadata": {},
   "source": [
    "<b>Lemmatization</b> reduces inflected word properly ensuring that the root word belongs to the language.<br>\n",
    "Root word is called Lemma. Lemma is canonical form, dictionary form, citation form of a set of words."
   ]
  },
  {
   "cell_type": "code",
   "execution_count": 69,
   "id": "6a24676e",
   "metadata": {},
   "outputs": [
    {
     "name": "stdout",
     "output_type": "stream",
     "text": [
      "Word                Lemma               \n",
      "i                   i                   \n",
      "n                   n                   \n",
      "t                   t                   \n",
      "e                   e                   \n",
      "r                   r                   \n",
      "e                   e                   \n",
      "s                   s                   \n",
      "t                   t                   \n",
      "i                   i                   \n",
      "n                   n                   \n",
      "g                   g                   \n",
      "                                        \n",
      "a                   a                   \n",
      "n                   n                   \n",
      "d                   d                   \n",
      "                                        \n",
      "s                   s                   \n",
      "h                   h                   \n",
      "o                   o                   \n",
      "r                   r                   \n",
      "t                   t                   \n",
      "                                        \n",
      "t                   t                   \n",
      "e                   e                   \n",
      "l                   l                   \n",
      "e                   e                   \n",
      "v                   v                   \n",
      "i                   i                   \n",
      "s                   s                   \n",
      "i                   i                   \n",
      "o                   o                   \n",
      "n                   n                   \n",
      "                                        \n",
      "m                   m                   \n",
      "o                   o                   \n",
      "v                   v                   \n",
      "i                   i                   \n",
      "e                   e                   \n",
      "                                        \n",
      "d                   d                   \n",
      "e                   e                   \n",
      "s                   s                   \n",
      "c                   c                   \n",
      "r                   r                   \n",
      "i                   i                   \n",
      "b                   b                   \n",
      "e                   e                   \n",
      "s                   s                   \n",
      "                                        \n",
      "s                   s                   \n",
      "o                   o                   \n",
      "m                   m                   \n",
      "e                   e                   \n",
      "                                        \n",
      "o                   o                   \n",
      "f                   f                   \n",
      "                                        \n",
      "t                   t                   \n",
      "h                   h                   \n",
      "e                   e                   \n",
      "                                        \n",
      "m                   m                   \n",
      "a                   a                   \n",
      "c                   c                   \n",
      "h                   h                   \n",
      "i                   i                   \n",
      "n                   n                   \n",
      "a                   a                   \n",
      "t                   t                   \n",
      "i                   i                   \n",
      "o                   o                   \n",
      "n                   n                   \n",
      "s                   s                   \n",
      "                                        \n",
      "s                   s                   \n",
      "u                   u                   \n",
      "r                   r                   \n",
      "r                   r                   \n",
      "o                   o                   \n",
      "u                   u                   \n",
      "n                   n                   \n",
      "d                   d                   \n",
      "i                   i                   \n",
      "n                   n                   \n",
      "g                   g                   \n",
      "                                        \n",
      "j                   j                   \n",
      "a                   a                   \n",
      "y                   y                   \n",
      "                                        \n",
      "l                   l                   \n",
      "e                   e                   \n",
      "n                   n                   \n",
      "o                   o                   \n",
      "s                   s                   \n",
      "                                        \n",
      "r                   r                   \n",
      "e                   e                   \n",
      "p                   p                   \n",
      "l                   l                   \n",
      "a                   a                   \n",
      "c                   c                   \n",
      "i                   i                   \n",
      "n                   n                   \n",
      "g                   g                   \n",
      "                                        \n",
      "c                   c                   \n",
      "a                   a                   \n",
      "r                   r                   \n",
      "s                   s                   \n",
      "o                   o                   \n",
      "n                   n                   \n",
      "                                        \n",
      "a                   a                   \n",
      "s                   s                   \n",
      "                                        \n",
      "h                   h                   \n",
      "o                   o                   \n",
      "s                   s                   \n",
      "t                   t                   \n",
      "                                        \n",
      "o                   o                   \n",
      "f                   f                   \n",
      "                                        \n",
      "t                   t                   \n",
      "h                   h                   \n",
      "e                   e                   \n",
      "                                        \n",
      "t                   t                   \n",
      "o                   o                   \n",
      "n                   n                   \n",
      "i                   i                   \n",
      "g                   g                   \n",
      "h                   h                   \n",
      "t                   t                   \n",
      "                                        \n",
      "s                   s                   \n",
      "h                   h                   \n",
      "o                   o                   \n",
      "w                   w                   \n",
      "                                        \n",
      "f                   f                   \n",
      "i                   i                   \n",
      "l                   l                   \n",
      "m                   m                   \n",
      "                                        \n",
      "i                   i                   \n",
      "s                   s                   \n",
      "                                        \n",
      "c                   c                   \n",
      "u                   u                   \n",
      "r                   r                   \n",
      "r                   r                   \n",
      "e                   e                   \n",
      "n                   n                   \n",
      "t                   t                   \n",
      "l                   l                   \n",
      "y                   y                   \n",
      "                                        \n",
      "v                   v                   \n",
      "e                   e                   \n",
      "r                   r                   \n",
      "y                   y                   \n",
      "                                        \n",
      "t                   t                   \n",
      "o                   o                   \n",
      "p                   p                   \n",
      "i                   i                   \n",
      "c                   c                   \n",
      "a                   a                   \n",
      "l                   l                   \n",
      "                                        \n",
      "g                   g                   \n",
      "i                   i                   \n",
      "v                   v                   \n",
      "e                   e                   \n",
      "n                   n                   \n",
      "                                        \n",
      "t                   t                   \n",
      "h                   h                   \n",
      "e                   e                   \n",
      "                                        \n",
      "p                   p                   \n",
      "u                   u                   \n",
      "b                   b                   \n",
      "l                   l                   \n",
      "i                   i                   \n",
      "c                   c                   \n",
      "                                        \n",
      "d                   d                   \n",
      "r                   r                   \n",
      "a                   a                   \n",
      "m                   m                   \n",
      "a                   a                   \n",
      "                                        \n",
      "s                   s                   \n",
      "u                   u                   \n",
      "r                   r                   \n",
      "r                   r                   \n",
      "o                   o                   \n",
      "u                   u                   \n",
      "n                   n                   \n",
      "d                   d                   \n",
      "i                   i                   \n",
      "n                   n                   \n",
      "g                   g                   \n",
      "                                        \n",
      "c                   c                   \n",
      "o                   o                   \n",
      "n                   n                   \n",
      "a                   a                   \n",
      "n                   n                   \n",
      "                                        \n",
      "o                   o                   \n",
      "b                   b                   \n",
      "r                   r                   \n",
      "i                   i                   \n",
      "e                   e                   \n",
      "n                   n                   \n",
      "                                        \n",
      "a                   a                   \n",
      "n                   n                   \n",
      "d                   d                   \n",
      "                                        \n",
      "j                   j                   \n",
      "a                   a                   \n",
      "y                   y                   \n",
      "                                        \n",
      "l                   l                   \n",
      "e                   e                   \n",
      "n                   n                   \n",
      "o                   o                   \n",
      "t                   t                   \n",
      "h                   h                   \n",
      "e                   e                   \n",
      "                                        \n",
      "f                   f                   \n",
      "i                   i                   \n",
      "l                   l                   \n",
      "m                   m                   \n",
      "                                        \n",
      "d                   d                   \n",
      "o                   o                   \n",
      "e                   e                   \n",
      "s                   s                   \n",
      "                                        \n",
      "a                   a                   \n",
      "                                        \n",
      "g                   g                   \n",
      "o                   o                   \n",
      "o                   o                   \n",
      "d                   d                   \n",
      "                                        \n",
      "j                   j                   \n",
      "o                   o                   \n",
      "b                   b                   \n",
      "                                        \n",
      "o                   o                   \n",
      "f                   f                   \n",
      "                                        \n",
      "s                   s                   \n",
      "p                   p                   \n",
      "a                   a                   \n",
      "r                   r                   \n",
      "k                   k                   \n",
      "i                   i                   \n",
      "n                   n                   \n",
      "g                   g                   \n",
      "                                        \n",
      "v                   v                   \n",
      "i                   i                   \n",
      "e                   e                   \n",
      "w                   w                   \n",
      "e                   e                   \n",
      "r                   r                   \n",
      "s                   s                   \n",
      "                                        \n",
      "i                   i                   \n",
      "n                   n                   \n",
      "t                   t                   \n",
      "e                   e                   \n",
      "r                   r                   \n",
      "e                   e                   \n",
      "s                   s                   \n",
      "t                   t                   \n",
      "                                        \n",
      "i                   i                   \n",
      "n                   n                   \n",
      "                                        \n",
      "t                   t                   \n",
      "h                   h                   \n",
      "e                   e                   \n",
      "                                        \n",
      "e                   e                   \n",
      "v                   v                   \n",
      "e                   e                   \n",
      "n                   n                   \n",
      "t                   t                   \n",
      "s                   s                   \n",
      "                                        \n",
      "a                   a                   \n",
      "n                   n                   \n",
      "d                   d                   \n",
      "                                        \n",
      "s                   s                   \n",
      "h                   h                   \n",
      "o                   o                   \n",
      "w                   w                   \n",
      "i                   i                   \n",
      "n                   n                   \n",
      "g                   g                   \n",
      "                                        \n",
      "s                   s                   \n",
      "o                   o                   \n",
      "m                   m                   \n",
      "e                   e                   \n",
      "                                        \n",
      "o                   o                   \n",
      "f                   f                   \n",
      "                                        \n",
      "t                   t                   \n",
      "h                   h                   \n",
      "e                   e                   \n",
      "                                        \n",
      "c                   c                   \n",
      "o                   o                   \n",
      "n                   n                   \n",
      "c                   c                   \n",
      "e                   e                   \n",
      "r                   r                   \n",
      "n                   n                   \n",
      "s                   s                   \n",
      "                                        \n",
      "o                   o                   \n",
      "f                   f                   \n",
      "                                        \n",
      "t                   t                   \n",
      "h                   h                   \n",
      "e                   e                   \n",
      "                                        \n",
      "s                   s                   \n",
      "t                   t                   \n",
      "a                   a                   \n",
      "k                   k                   \n",
      "e                   e                   \n",
      "h                   h                   \n",
      "o                   o                   \n",
      "l                   l                   \n",
      "d                   d                   \n",
      "e                   e                   \n",
      "r                   r                   \n",
      "s                   s                   \n",
      "                                        \n",
      "p                   p                   \n",
      "a                   a                   \n",
      "r                   r                   \n",
      "t                   t                   \n",
      "i                   i                   \n",
      "c                   c                   \n",
      "u                   u                   \n",
      "l                   l                   \n",
      "a                   a                   \n",
      "r                   r                   \n",
      "l                   l                   \n",
      "y                   y                   \n",
      "                                        \n",
      "o                   o                   \n",
      "f                   f                   \n",
      "                                        \n",
      "t                   t                   \n",
      "h                   h                   \n",
      "e                   e                   \n",
      "                                        \n",
      "n                   n                   \n",
      "b                   b                   \n",
      "c                   c                   \n",
      "                                        \n",
      "e                   e                   \n",
      "x                   x                   \n",
      "e                   e                   \n",
      "c                   c                   \n",
      "u                   u                   \n",
      "t                   t                   \n",
      "i                   i                   \n",
      "v                   v                   \n",
      "e                   e                   \n",
      "s                   s                   \n",
      "                                        \n",
      "t                   t                   \n",
      "h                   h                   \n",
      "e                   e                   \n",
      "                                        \n",
      "p                   p                   \n",
      "o                   o                   \n",
      "r                   r                   \n",
      "t                   t                   \n",
      "r                   r                   \n",
      "a                   a                   \n",
      "y                   y                   \n",
      "a                   a                   \n",
      "l                   l                   \n",
      "                                        \n",
      "o                   o                   \n",
      "f                   f                   \n",
      "                                        \n",
      "o                   o                   \n",
      "v                   v                   \n",
      "i                   i                   \n",
      "t                   t                   \n",
      "z                   z                   \n",
      "                                        \n",
      "w                   w                   \n",
      "a                   a                   \n",
      "s                   s                   \n",
      "                                        \n",
      "p                   p                   \n",
      "a                   a                   \n",
      "r                   r                   \n",
      "t                   t                   \n",
      "i                   i                   \n",
      "c                   c                   \n",
      "u                   u                   \n",
      "l                   l                   \n",
      "a                   a                   \n",
      "r                   r                   \n",
      "l                   l                   \n",
      "y                   y                   \n",
      "                                        \n",
      "c                   c                   \n",
      "o                   o                   \n",
      "m                   m                   \n",
      "p                   p                   \n",
      "e                   e                   \n",
      "l                   l                   \n",
      "l                   l                   \n",
      "i                   i                   \n",
      "n                   n                   \n",
      "g                   g                   \n",
      "                                        \n",
      "a                   a                   \n",
      "n                   n                   \n",
      "d                   d                   \n",
      "                                        \n",
      "i                   i                   \n",
      "n                   n                   \n",
      "t                   t                   \n",
      "e                   e                   \n",
      "r                   r                   \n",
      "e                   e                   \n",
      "s                   s                   \n",
      "t                   t                   \n",
      "i                   i                   \n",
      "n                   n                   \n",
      "g                   g                   \n",
      "                                        \n",
      "i                   i                   \n",
      "                                        \n",
      "t                   t                   \n",
      "h                   h                   \n",
      "o                   o                   \n",
      "u                   u                   \n",
      "g                   g                   \n",
      "h                   h                   \n",
      "t                   t                   \n",
      "s                   s                   \n",
      "t                   t                   \n",
      "i                   i                   \n",
      "l                   l                   \n",
      "l                   l                   \n",
      "                                        \n",
      "m                   m                   \n",
      "a                   a                   \n",
      "n                   n                   \n",
      "y                   y                   \n",
      "                                        \n",
      "o                   o                   \n",
      "f                   f                   \n",
      "                                        \n",
      "t                   t                   \n",
      "h                   h                   \n",
      "e                   e                   \n",
      "                                        \n",
      "c                   c                   \n",
      "h                   h                   \n",
      "a                   a                   \n",
      "r                   r                   \n",
      "a                   a                   \n",
      "c                   c                   \n",
      "t                   t                   \n",
      "e                   e                   \n",
      "r                   r                   \n",
      "s                   s                   \n",
      "                                        \n",
      "w                   w                   \n",
      "e                   e                   \n",
      "r                   r                   \n",
      "e                   e                   \n",
      "                                        \n",
      "o                   o                   \n",
      "n                   n                   \n",
      "l                   l                   \n",
      "y                   y                   \n",
      "                                        \n",
      "v                   v                   \n",
      "e                   e                   \n",
      "r                   r                   \n",
      "y                   y                   \n",
      "                                        \n",
      "b                   b                   \n",
      "r                   r                   \n",
      "i                   i                   \n",
      "e                   e                   \n",
      "f                   f                   \n",
      "l                   l                   \n",
      "y                   y                   \n",
      "                                        \n",
      "l                   l                   \n",
      "i                   i                   \n",
      "m                   m                   \n",
      "n                   n                   \n",
      "e                   e                   \n",
      "d                   d                   \n",
      "                                        \n",
      "o                   o                   \n",
      "r                   r                   \n",
      "                                        \n",
      "t                   t                   \n",
      "o                   o                   \n",
      "u                   u                   \n",
      "c                   c                   \n",
      "h                   h                   \n",
      "e                   e                   \n",
      "d                   d                   \n",
      "                                        \n",
      "u                   u                   \n",
      "p                   p                   \n",
      "o                   o                   \n",
      "n                   n                   \n",
      "                                        \n",
      "a                   a                   \n",
      "n                   n                   \n",
      "d                   d                   \n",
      "                                        \n",
      "s                   s                   \n",
      "o                   o                   \n",
      "m                   m                   \n",
      "e                   e                   \n",
      "                                        \n",
      "o                   o                   \n",
      "f                   f                   \n",
      "                                        \n",
      "t                   t                   \n",
      "h                   h                   \n",
      "e                   e                   \n",
      "                                        \n",
      "a                   a                   \n",
      "c                   c                   \n",
      "t                   t                   \n",
      "i                   i                   \n",
      "n                   n                   \n",
      "g                   g                   \n",
      "                                        \n",
      "s                   s                   \n",
      "e                   e                   \n",
      "e                   e                   \n",
      "m                   m                   \n",
      "e                   e                   \n",
      "d                   d                   \n",
      "                                        \n",
      "p                   p                   \n",
      "e                   e                   \n",
      "r                   r                   \n",
      "f                   f                   \n",
      "u                   u                   \n",
      "n                   n                   \n",
      "c                   c                   \n",
      "t                   t                   \n",
      "o                   o                   \n",
      "r                   r                   \n",
      "y                   y                   \n",
      "                                        \n",
      "n                   n                   \n",
      "e                   e                   \n",
      "v                   v                   \n",
      "e                   e                   \n",
      "r                   r                   \n",
      "t                   t                   \n",
      "h                   h                   \n",
      "e                   e                   \n",
      "l                   l                   \n",
      "e                   e                   \n",
      "s                   s                   \n",
      "s                   s                   \n",
      "                                        \n",
      "a                   a                   \n",
      "n                   n                   \n",
      "                                        \n",
      "i                   i                   \n",
      "n                   n                   \n",
      "t                   t                   \n",
      "e                   e                   \n",
      "r                   r                   \n",
      "e                   e                   \n",
      "s                   s                   \n",
      "t                   t                   \n",
      "i                   i                   \n",
      "n                   n                   \n",
      "g                   g                   \n",
      "                                        \n",
      "s                   s                   \n",
      "t                   t                   \n",
      "o                   o                   \n",
      "r                   r                   \n",
      "y                   y                   \n"
     ]
    }
   ],
   "source": [
    "from nltk.stem import WordNetLemmatizer\n",
    "wordnet_lemmatizer = WordNetLemmatizer()\n",
    "\n",
    "sentence = df['review'][200]\n",
    "print('{0:20}{1:20}'.format('Word', 'Lemma'))\n",
    "for word in sentence:\n",
    "    print('{0:20}{1:20}'.format(word, wordnet_lemmatizer.lemmatize(word,pos='v')))"
   ]
  },
  {
   "cell_type": "code",
   "execution_count": null,
   "id": "27184a64",
   "metadata": {},
   "outputs": [],
   "source": []
  }
 ],
 "metadata": {
  "kernelspec": {
   "display_name": "Python 3 (ipykernel)",
   "language": "python",
   "name": "python3"
  },
  "language_info": {
   "codemirror_mode": {
    "name": "ipython",
    "version": 3
   },
   "file_extension": ".py",
   "mimetype": "text/x-python",
   "name": "python",
   "nbconvert_exporter": "python",
   "pygments_lexer": "ipython3",
   "version": "3.9.12"
  }
 },
 "nbformat": 4,
 "nbformat_minor": 5
}
